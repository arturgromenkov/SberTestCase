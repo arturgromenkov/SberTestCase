{
 "cells": [
  {
   "cell_type": "markdown",
   "id": "dae34848-950f-4973-a0a8-ec6ffea3c124",
   "metadata": {},
   "source": [
    "# Анализ отзывов на банки\n",
    "\n",
    "В данных представлены отзывы на банки с сайта [banki.ru](https://www.banki.ru/)\n",
    "- body - сам отзыв\n",
    "- title - название отзыва\n",
    "- rating - оценка по отзыву, варьируется от 1 до 5\n",
    "- bank_name - название банка\n",
    "- date - дата публикации отзыва\n",
    "\n",
    "Необходимо EDA (Exploratory Data Analysis) по этим данным и сделать несколько выводов (приветствуются визуализации):\n",
    "- назвать топ-15 банков по числу отзывов\n",
    "- какой банк из числа топ-15 по отзывов имеет самый высокий средний рейтинг?\n",
    "- сделать выводы об изменении среднего рейтинга банков по месяцам из топ-5 банков по числу отзывов\n",
    "- нет ли в данных в целом каких-то странностей на ваш взгляд?\n",
    "- дополнительный EDA на ваше усмотрение, возможные интересные наблюдения\n",
    "\n",
    "Необходимо выбрать метрику и построить бинарный классификатор отзывов, добившись при этом лучшей метрики на валидационной выборке (отзывы >=3 считать положительными, <3 - отрицательными)\n",
    "\n",
    "Будет плюсом визуализация результатов работы модели (ответ на вопрос: почему построенная модель считает этот отзыв положительным или отрицательным?)"
   ]
  },
  {
   "cell_type": "markdown",
   "id": "fa5780bd-1667-4498-97fe-4343e6e2798a",
   "metadata": {},
   "source": [
    "Далее будет в основном описан ход работы, а в конце отчёт"
   ]
  },
  {
   "cell_type": "markdown",
   "id": "e6af52e2-0316-4441-aaee-87792affe4f4",
   "metadata": {},
   "source": [
    "Импортируем библиотеки и скачаем необходимые модули для корректной работы API"
   ]
  },
  {
   "cell_type": "code",
   "execution_count": 6,
   "id": "0136426f",
   "metadata": {},
   "outputs": [],
   "source": [
    "import pandas as pd\n",
    "import matplotlib.pyplot as plt\n",
    "import calendar\n",
    "import datetime\n",
    "import re\n",
    "import unicodedata\n",
    "import fastai\n",
    "from fastai import *\n",
    "from fastai.text import * \n",
    "import nltk\n",
    "from nltk.corpus import stopwords \n",
    "from nltk.stem import SnowballStemmer\n",
    "from fastai.text.all import *\n",
    "import seaborn as sns"
   ]
  },
  {
   "cell_type": "markdown",
   "id": "3a19104d-7a67-4e6b-a6c8-94ac8ee08f98",
   "metadata": {},
   "source": [
    "Считаем датасет"
   ]
  },
  {
   "cell_type": "code",
   "execution_count": 7,
   "id": "e0939f2a-a29e-4295-8ebf-e67c79e4a9c8",
   "metadata": {},
   "outputs": [
    {
     "name": "stdout",
     "output_type": "stream",
     "text": [
      "                                                                                                                                                                                                                                                                                                                                                                                                                                                                                                                                                                                                                      body  \\\n",
      "0  &lt;p&gt;Добрый день&lt;/p&gt;\\r\\n&lt;p&gt;пишу сюда для более скорого разрешения вопроса &lt;/p&gt;\\r\\n&lt;p&gt;Пополнил через Юмани Озон банк&lt;/p&gt;\\r\\n&lt;p&gt;после чего вывести деньги не дал, сославшись на сомнительные операции(понимаю, могло так показаться)&lt;/p&gt;\\r\\n&lt;p&gt;просто озон удобен тем что можно пополнить его через QIWI и Юмани без комиссии, за что ценю&lt;/p&gt;\\r\\n&lt;p&gt;документы предоставил, причины переводов тоже&lt;/p&gt;\\r\\n&lt;p&gt;надеюсь на разблокировку, если не для переводов, то хотя бы для оплаты товаров&lt;/p&gt;\\r\\n&lt;p&gt;для привлечения внимания...   \n",
      "1                                                                                                                                                                           &lt;p&gt;При возврате просроченной задолженности, банк звонит третьим лицам не указанным в договоре, ни как контактными, ни как поручителем или созаемщиком. Звонки это пол беды, готовьтесь к тому, что банк озвучит всю сумму долга третьим лицам и потребует внести платеж (сумму так же озвучит).Ни отправленный отказ по взаимодействию с третьими лицами, ни обращение в службу поддержки банка результатов Вам не принесёт.  &lt;/p&gt;   \n",
      "2  &lt;p&gt;07.09.22 ю была оформлена кредитная карта &quot;120 дней&quot; В банке Открытие для погашения задолжности в стороннем банке. Менеджер пояснила, что карту друго банка нужно закрыть. Перевели деньги, в течение недели обязательства свои выполнила- карту закрыла. В офис приходить не нужно, справок предоставлять необходимости нет, сказали мы сами всë увидим. &lt;/p&gt;\\r\\n&lt;p&gt;Карта в другом банке была закрыта через 45 дней- 01.11.22 , в БКИ данные есть. В банке их почему-то не видят, начислили комиссию -9440 руб! Перед Новым годом, решила закрыть кредит, пришла в офис г. Казань Х....   \n",
      "3  &lt;p&gt;Новый год начинается с приятностей)&lt;/p&gt;\\r\\n&lt;p&gt;Никогда не понимал людей, которые критикуют Тинькофф банк. На моей памяти обслуживания лучше не было нигде и ни у кого) но опять же - это мой личный опыт и мое личное мнение. За 6-7 лет сотрудничества с банком ни одного нарекания.&lt;/p&gt;\\r\\n&lt;p&gt;Пример последнего взаимодействия:&lt;/p&gt;\\r\\n&lt;p&gt;30 декабря 22 г.покупаю в салоне МТС новый телефон. Сумма - 85 400. Оплачиваю с дебетовой карты. Спустя пару дней захожу в приложение и виду - операция обработана, но кэшбека по ней нет. Пишу в поддержку с вопросом - а п...   \n",
      "4                                                                     &lt;p&gt;Увидела на сайте Газпромбанка акцию с бонусом по кредитной карте 180 дней. 14 декабря отправила заявку на эту карту, мне ее одобрили. Пришла в офис банка в городе Ивдель заключить договор, но сотрудница банка сказала, что эти карты не привезли, взяла мой номер телефона и сказала ждать звонка. Звонка я не дождалась и ходила в банк 27 декабря снова - ответ тот же &quot; нет в наличии, когда будут они не знают&quot;. Сегодня 3 января, я без карты. Акция закончилась 31.12.2022г. Видимо банку не нужны клиенты... &lt;/p&gt;   \n",
      "\n",
      "                                                      title  rating  \\\n",
      "0                                    Заблокировали средства       1   \n",
      "1                        Возврат просроченной задолженномти       1   \n",
      "2       Ошибочное начисление комиссии, затягивание процесса       1   \n",
      "3                           Клиентоориентиванность 10 из 10       5   \n",
      "4  Как Газпромбанк обманывает клиентов с акционными картами       1   \n",
      "\n",
      "       bank_name                date  \n",
      "0      Еком Банк 2023-01-03 12:46:11  \n",
      "1  Тинькофф Банк 2023-01-03 12:31:46  \n",
      "2  Банк Открытие 2023-01-03 12:23:11  \n",
      "3  Тинькофф Банк 2023-01-03 12:16:07  \n",
      "4    Газпромбанк 2023-01-03 12:12:36  \n",
      "body                 object\n",
      "title                object\n",
      "rating                int64\n",
      "bank_name            object\n",
      "date         datetime64[ns]\n",
      "dtype: object\n"
     ]
    }
   ],
   "source": [
    "df = pd.read_csv(\"data/parsed_reviews3.csv\")\n",
    "df[\"date\"] = pd.to_datetime(df[\"date\"])\n",
    "print(df.head())\n",
    "print(df.dtypes)"
   ]
  },
  {
   "cell_type": "code",
   "execution_count": 8,
   "id": "d3394ff8-d252-4c6b-8f9e-6509cd6dedb9",
   "metadata": {},
   "outputs": [
    {
     "name": "stderr",
     "output_type": "stream",
     "text": [
      "[nltk_data] Downloading package stopwords to /home/artur/nltk_data...\n",
      "[nltk_data]   Package stopwords is already up-to-date!\n"
     ]
    },
    {
     "data": {
      "text/plain": [
       "True"
      ]
     },
     "execution_count": 8,
     "metadata": {},
     "output_type": "execute_result"
    }
   ],
   "source": [
    "nltk.download('stopwords')"
   ]
  },
  {
   "cell_type": "markdown",
   "id": "68d73f99-dfdb-4313-ac1c-8ff1b68eff67",
   "metadata": {},
   "source": [
    "Найдём топ 15 банков по числу отзывов"
   ]
  },
  {
   "cell_type": "code",
   "execution_count": 9,
   "id": "c0b7859b-f14f-4e87-9b06-3faf4e70bdd3",
   "metadata": {},
   "outputs": [
    {
     "name": "stdout",
     "output_type": "stream",
     "text": [
      "bank_name\n",
      "Тинькофф Банк                              44864\n",
      "Хоум Кредит Банк                            9310\n",
      "Совкомбанк                                  6111\n",
      "ВТБ                                         3817\n",
      "СберБанк                                    3490\n",
      "Альфа-Банк                                  3369\n",
      "Россельхозбанк                              3064\n",
      "Банк Открытие                               1894\n",
      "МТС Банк                                    1542\n",
      "Модульбанк                                  1460\n",
      "Газпромбанк                                 1314\n",
      "Московский Кредитный Банк                   1251\n",
      "Азиатско-Тихоокеанский Банк                 1001\n",
      "Уральский Банк Реконструкции и Развития      748\n",
      "Русский Стандарт                             689\n",
      "Name: bank_name, dtype: int64\n"
     ]
    }
   ],
   "source": [
    "top15_review_count = df.groupby(['bank_name'])[\"bank_name\"].count().sort_values(ascending=False)[0:15]\n",
    "print(top15_review_count)"
   ]
  },
  {
   "cell_type": "markdown",
   "id": "ed3a2e3d-f36c-4c84-91f0-b25fa64bb500",
   "metadata": {},
   "source": [
    "Найдём какой банк из числа топ-15 по отзывов имеет самый высокий средний рейтинг"
   ]
  },
  {
   "cell_type": "code",
   "execution_count": 10,
   "id": "6ecc81f8-f168-4c24-8c05-9f650fc23d7d",
   "metadata": {},
   "outputs": [
    {
     "name": "stdout",
     "output_type": "stream",
     "text": [
      "bank_name\n",
      "Тинькофф Банк    4.783568\n",
      "Name: rating, dtype: float64\n"
     ]
    }
   ],
   "source": [
    "mask = df['bank_name'].isin(top15_review_count.index.to_numpy())\n",
    "top_rated_bank = df[mask].groupby([\"bank_name\"])[\"rating\"].mean().sort_values(ascending=False)[0:1]\n",
    "print(top_rated_bank)"
   ]
  },
  {
   "cell_type": "markdown",
   "id": "0dd31d07-8798-461e-8ea3-62e43978e281",
   "metadata": {},
   "source": [
    "Cгрупируем данные об изменении среднего рейтинга банков по месяцам из топ-5 банков по числу отзывов"
   ]
  },
  {
   "cell_type": "code",
   "execution_count": 11,
   "id": "ca8409d7-0a14-4940-8908-9ca4463c79b2",
   "metadata": {},
   "outputs": [
    {
     "name": "stdout",
     "output_type": "stream",
     "text": [
      "bank_name         year_month\n",
      "ВТБ               2022-09       2.073814\n",
      "                  2022-10       1.914620\n",
      "                  2022-11       1.993778\n",
      "                  2022-12       1.896052\n",
      "                  2023-01       1.148148\n",
      "СберБанк          2022-09       1.920000\n",
      "                  2022-10       2.777547\n",
      "                  2022-11       2.562708\n",
      "                  2022-12       1.868263\n",
      "                  2023-01       1.400000\n",
      "Совкомбанк        2022-09       3.883544\n",
      "                  2022-10       3.846561\n",
      "                  2022-11       4.230511\n",
      "                  2022-12       4.524676\n",
      "                  2023-01       4.419355\n",
      "Тинькофф Банк     2022-09       3.888102\n",
      "                  2022-10       4.865877\n",
      "                  2022-11       4.841598\n",
      "                  2022-12       4.650189\n",
      "                  2023-01       3.990291\n",
      "Хоум Кредит Банк  2022-09       4.060465\n",
      "                  2022-10       3.591479\n",
      "                  2022-11       4.001401\n",
      "                  2022-12       4.626306\n",
      "                  2023-01       2.833333\n",
      "Name: rating, dtype: float64\n"
     ]
    }
   ],
   "source": [
    "mask = df[\"bank_name\"].isin(top15_review_count.index.to_numpy()[0:5])\n",
    "masked_df = df[mask]\n",
    "masked_df = masked_df.assign(year_month = masked_df[\"date\"].dt.to_period(\"M\"))\n",
    "top5_mean_rate = masked_df.groupby([\"bank_name\",\"year_month\"])[\"rating\"].mean()\n",
    "print(top5_mean_rate)"
   ]
  },
  {
   "cell_type": "markdown",
   "id": "e2881535-c783-410f-993c-5d27e8863545",
   "metadata": {},
   "source": [
    "Теперь построим бинарный классификатор отзывов, для этого проведём базовую предобработку, легко заметить, что текст в колонке body не совсем пригоден для тренировки любой модели, так как содержит мусор, почистим её и преобразуем."
   ]
  },
  {
   "cell_type": "code",
   "execution_count": 12,
   "id": "26c4bbcb-ee83-4de7-a6aa-b5b959ab0dbe",
   "metadata": {},
   "outputs": [],
   "source": [
    "def transform_text(s,stopwords = stopwords.words('russian'),snowball = SnowballStemmer(language=\"russian\")):\n",
    "    s = unicodedata.normalize(\"NFKD\", re.sub(r'[^а-яА-Я0-9\\s]', '', s).lower()).replace(\"\\r\\n\",\" \")\n",
    "    tokens = s.split()\n",
    "    filtered_tokens = []\n",
    "    for token in tokens:\n",
    "        if token not in stopwords:\n",
    "            filtered_tokens.append(snowball.stem(token))\n",
    "    return ' '.join(filtered_tokens)\n",
    "\n",
    "df = pd.read_csv(\"data/parsed_reviews3.csv\")\n",
    "df[\"date\"] = pd.to_datetime(df[\"date\"])\n",
    "df[\"body\"] = df[\"body\"].apply(transform_text)"
   ]
  },
  {
   "cell_type": "code",
   "execution_count": 13,
   "id": "86e3c03b-c863-4dca-a301-95f0f4a46803",
   "metadata": {},
   "outputs": [
    {
     "name": "stdout",
     "output_type": "stream",
     "text": [
      "                                                                                                                                                                                                                                                                                                                                                                                                                                                                                                                                                                                                                      body  \\\n",
      "0                                                                                                                                                                                                                                                                                                                        добрый ден пиш сюд скор разрешен вопрос пополн юман озон банк вывест деньг дал сосла сомнительн операциипонима могл показа прост озон удоб пополн юман комисс цен документ предостав причин перевод над разблокировк перевод хот оплат товар привлечен вниман пок ставл 1 решен вопрос поставл 5   \n",
      "1                                                                                                                                                                                                                                                                                                                                       возврат просроченной задолжен банк звон трет лиц указа договор контактн поручител созаемщик звонк эт пол бед готовьт том банк озвуч сумм долг трет лиц потреб внест платеж сумм озвучитн отправленный отказ взаимодейств трет лиц обращен служб поддержк банк результат принест   \n",
      "2  070922 ю оформл кредитн карт 120 дней банк открыт погашен задолжн сторон банк менеджер поясн карт друг банк нужн закр перевел деньг течен недел обязательств сво выполн карт закр офис приход нужн справок предоставля необходим сказа сам вс увид карт друг банк закрыт 45 дней 011122 бки дан банк почемут вид начисл комисс 9440 руб нов год реш закр кред пришл офис г казан х ямашев 61б менеджер сказа нес справк закрыт важн написа описан услуг говор принесл справк состав заявлен 261222 рассмотрен 7 дней сегодн пришл смс треб ещ врем времен нет9 январ истека 120 дней полож деньг счет комисс спи...   \n",
      "3  новый год начина приятностей понима людей котор критик тинькофф банк моей памят обслуживан нигд ког эт мой личный оп мо личн мнен 67 лет сотрудничеств банк одн нарекан пример последн взаимодейств 30 декабр 22 гпокупа салон мтс новый телефон сумм 85 400 оплачива дебетовой карт спуст пар дней захож приложен вид операц обработа кэшбек ней пиш поддержк вопрос поч объясня вполн доступн мол переда информац салон мтс мсс код соответств код списк исключен начислен кэшбек логичн работа банк провер точн сумм покупк крупн поэт начисл кэшбек вручн банк обяза пошел встреч эт чуд 10 10 очеред...   \n",
      "4                                                                                                                                                                                                                                                                         увидел сайт газпромбанк акц бонус кредитной карт 180 дней 14 декабр отправ заявк карт одобр пришл офис банк город ивдел заключ договор сотрудниц банк сказа карт привезл взял мой номер телефон сказа ждат звонк звонк дожда ход банк 27 декабр снов ответ налич будут знают сегодн 3 январ карт акц законч 31122022г видим банк нужн клиент   \n",
      "\n",
      "                                                      title  rating  \\\n",
      "0                                    Заблокировали средства       1   \n",
      "1                        Возврат просроченной задолженномти       1   \n",
      "2       Ошибочное начисление комиссии, затягивание процесса       1   \n",
      "3                           Клиентоориентиванность 10 из 10       5   \n",
      "4  Как Газпромбанк обманывает клиентов с акционными картами       1   \n",
      "\n",
      "       bank_name                date  \n",
      "0      Еком Банк 2023-01-03 12:46:11  \n",
      "1  Тинькофф Банк 2023-01-03 12:31:46  \n",
      "2  Банк Открытие 2023-01-03 12:23:11  \n",
      "3  Тинькофф Банк 2023-01-03 12:16:07  \n",
      "4    Газпромбанк 2023-01-03 12:12:36  \n"
     ]
    }
   ],
   "source": [
    "print(df.head())"
   ]
  },
  {
   "cell_type": "markdown",
   "id": "421aa575-2574-427b-8b56-c99fb30ca1f0",
   "metadata": {},
   "source": [
    "Не станем включать title в нашу модель,так как на мой взгляд он либо сильно кореллирует с body, либо никак не относится к рейтингу. Добавим ещё одну колонку для бинарной классификации\n",
    "\n",
    "*Пометка для меня - Дата определённо делает эту задачу также задачей на анализ временных рядов, но для упрощения модели я избавлюсь от времени, хотя легко видеть ,что временную шкалу можно использовать"
   ]
  },
  {
   "cell_type": "code",
   "execution_count": 14,
   "id": "ef0beda0-860e-4d16-9acc-d76edb836a3b",
   "metadata": {},
   "outputs": [
    {
     "name": "stdout",
     "output_type": "stream",
     "text": [
      "                                                                                                                                                                                                                                                                                                                                                                                                                                                                                                                                                                                                                      body  \\\n",
      "0                                                                                                                                                                                                                                                                                                                        добрый ден пиш сюд скор разрешен вопрос пополн юман озон банк вывест деньг дал сосла сомнительн операциипонима могл показа прост озон удоб пополн юман комисс цен документ предостав причин перевод над разблокировк перевод хот оплат товар привлечен вниман пок ставл 1 решен вопрос поставл 5   \n",
      "1                                                                                                                                                                                                                                                                                                                                       возврат просроченной задолжен банк звон трет лиц указа договор контактн поручител созаемщик звонк эт пол бед готовьт том банк озвуч сумм долг трет лиц потреб внест платеж сумм озвучитн отправленный отказ взаимодейств трет лиц обращен служб поддержк банк результат принест   \n",
      "2  070922 ю оформл кредитн карт 120 дней банк открыт погашен задолжн сторон банк менеджер поясн карт друг банк нужн закр перевел деньг течен недел обязательств сво выполн карт закр офис приход нужн справок предоставля необходим сказа сам вс увид карт друг банк закрыт 45 дней 011122 бки дан банк почемут вид начисл комисс 9440 руб нов год реш закр кред пришл офис г казан х ямашев 61б менеджер сказа нес справк закрыт важн написа описан услуг говор принесл справк состав заявлен 261222 рассмотрен 7 дней сегодн пришл смс треб ещ врем времен нет9 январ истека 120 дней полож деньг счет комисс спи...   \n",
      "3  новый год начина приятностей понима людей котор критик тинькофф банк моей памят обслуживан нигд ког эт мой личный оп мо личн мнен 67 лет сотрудничеств банк одн нарекан пример последн взаимодейств 30 декабр 22 гпокупа салон мтс новый телефон сумм 85 400 оплачива дебетовой карт спуст пар дней захож приложен вид операц обработа кэшбек ней пиш поддержк вопрос поч объясня вполн доступн мол переда информац салон мтс мсс код соответств код списк исключен начислен кэшбек логичн работа банк провер точн сумм покупк крупн поэт начисл кэшбек вручн банк обяза пошел встреч эт чуд 10 10 очеред...   \n",
      "4                                                                                                                                                                                                                                                                         увидел сайт газпромбанк акц бонус кредитной карт 180 дней 14 декабр отправ заявк карт одобр пришл офис банк город ивдел заключ договор сотрудниц банк сказа карт привезл взял мой номер телефон сказа ждат звонк звонк дожда ход банк 27 декабр снов ответ налич будут знают сегодн 3 январ карт акц законч 31122022г видим банк нужн клиент   \n",
      "\n",
      "       bank_name  is_positive  \n",
      "0      Еком Банк            0  \n",
      "1  Тинькофф Банк            0  \n",
      "2  Банк Открытие            0  \n",
      "3  Тинькофф Банк            1  \n",
      "4    Газпромбанк            0  \n"
     ]
    }
   ],
   "source": [
    "def is_positive(rating):\n",
    "    if rating >= 3:\n",
    "        return 1\n",
    "    else:\n",
    "        return 0\n",
    "\n",
    "res_df = df.drop([\"title\",\"date\"],axis = 1)\n",
    "res_df[\"is_positive\"] = res_df[\"rating\"].apply(is_positive)\n",
    "res_df = res_df.drop([\"rating\"],axis=1)\n",
    "print(res_df.head())"
   ]
  },
  {
   "cell_type": "markdown",
   "id": "4f182f46-6528-402f-b852-5241bcd893fe",
   "metadata": {},
   "source": [
    "Теперь датасет у нас на руках, весь обработанн. Научим наши модели, разбивку для валидации будем использовать 3 к 1"
   ]
  },
  {
   "cell_type": "code",
   "execution_count": 15,
   "id": "1e872653-be90-436c-8cb1-2312df51a47b",
   "metadata": {},
   "outputs": [
    {
     "data": {
      "text/html": [
       "\n",
       "<style>\n",
       "    /* Turns off some styling */\n",
       "    progress {\n",
       "        /* gets rid of default border in Firefox and Opera. */\n",
       "        border: none;\n",
       "        /* Needs to be in here for Safari polyfill so background images work as expected. */\n",
       "        background-size: auto;\n",
       "    }\n",
       "    progress:not([value]), progress:not([value])::-webkit-progress-bar {\n",
       "        background: repeating-linear-gradient(45deg, #7e7e7e, #7e7e7e 10px, #5c5c5c 10px, #5c5c5c 20px);\n",
       "    }\n",
       "    .progress-bar-interrupted, .progress-bar-interrupted::-webkit-progress-bar {\n",
       "        background: #F44336;\n",
       "    }\n",
       "</style>\n"
      ],
      "text/plain": [
       "<IPython.core.display.HTML object>"
      ]
     },
     "metadata": {},
     "output_type": "display_data"
    },
    {
     "data": {
      "text/html": [],
      "text/plain": [
       "<IPython.core.display.HTML object>"
      ]
     },
     "metadata": {},
     "output_type": "display_data"
    }
   ],
   "source": [
    "ls = TextDataLoaders.from_df(res_df, \n",
    "                              text_col=[\"body\",\"bank_name\"],     \n",
    "                              label_col='is_positive', \n",
    "                              valid_pct = 0.25)  "
   ]
  },
  {
   "cell_type": "code",
   "execution_count": 16,
   "id": "3cd4e38c-a799-4194-8eda-c845f15690e6",
   "metadata": {},
   "outputs": [
    {
     "data": {
      "text/html": [
       "\n",
       "<style>\n",
       "    /* Turns off some styling */\n",
       "    progress {\n",
       "        /* gets rid of default border in Firefox and Opera. */\n",
       "        border: none;\n",
       "        /* Needs to be in here for Safari polyfill so background images work as expected. */\n",
       "        background-size: auto;\n",
       "    }\n",
       "    progress:not([value]), progress:not([value])::-webkit-progress-bar {\n",
       "        background: repeating-linear-gradient(45deg, #7e7e7e, #7e7e7e 10px, #5c5c5c 10px, #5c5c5c 20px);\n",
       "    }\n",
       "    .progress-bar-interrupted, .progress-bar-interrupted::-webkit-progress-bar {\n",
       "        background: #F44336;\n",
       "    }\n",
       "</style>\n"
      ],
      "text/plain": [
       "<IPython.core.display.HTML object>"
      ]
     },
     "metadata": {},
     "output_type": "display_data"
    },
    {
     "data": {
      "text/html": [],
      "text/plain": [
       "<IPython.core.display.HTML object>"
      ]
     },
     "metadata": {},
     "output_type": "display_data"
    },
    {
     "data": {
      "image/png": "[encoded data removed]",
      "text/plain": [
       "<Figure size 432x288 with 1 Axes>"
      ]
     },
     "metadata": {
      "needs_background": "light"
     },
     "output_type": "display_data"
    }
   ],
   "source": [
    "learner_model = text_classifier_learner(ls,   \n",
    "                                  AWD_LSTM,           \n",
    "                                  drop_mult = 0.5,    \n",
    "                                  metrics = accuracy) \n",
    "lr = learner_model.lr_find()[0]"
   ]
  },
  {
   "cell_type": "markdown",
   "id": "c50e626b-9a22-4d3e-967c-9612bae3c6f5",
   "metadata": {},
   "source": [
    "Имеем предложенной значение Learning rate, начнём доообучивать сеть"
   ]
  },
  {
   "cell_type": "code",
   "execution_count": 17,
   "id": "78bbc94c-9069-4c0e-a95d-2798563aebed",
   "metadata": {},
   "outputs": [
    {
     "data": {
      "text/html": [
       "\n",
       "<style>\n",
       "    /* Turns off some styling */\n",
       "    progress {\n",
       "        /* gets rid of default border in Firefox and Opera. */\n",
       "        border: none;\n",
       "        /* Needs to be in here for Safari polyfill so background images work as expected. */\n",
       "        background-size: auto;\n",
       "    }\n",
       "    progress:not([value]), progress:not([value])::-webkit-progress-bar {\n",
       "        background: repeating-linear-gradient(45deg, #7e7e7e, #7e7e7e 10px, #5c5c5c 10px, #5c5c5c 20px);\n",
       "    }\n",
       "    .progress-bar-interrupted, .progress-bar-interrupted::-webkit-progress-bar {\n",
       "        background: #F44336;\n",
       "    }\n",
       "</style>\n"
      ],
      "text/plain": [
       "<IPython.core.display.HTML object>"
      ]
     },
     "metadata": {},
     "output_type": "display_data"
    },
    {
     "data": {
      "text/html": [
       "<table border=\"1\" class=\"dataframe\">\n",
       "  <thead>\n",
       "    <tr style=\"text-align: left;\">\n",
       "      <th>epoch</th>\n",
       "      <th>train_loss</th>\n",
       "      <th>valid_loss</th>\n",
       "      <th>accuracy</th>\n",
       "      <th>time</th>\n",
       "    </tr>\n",
       "  </thead>\n",
       "  <tbody>\n",
       "    <tr>\n",
       "      <td>0</td>\n",
       "      <td>0.534131</td>\n",
       "      <td>0.681407</td>\n",
       "      <td>0.713022</td>\n",
       "      <td>01:24</td>\n",
       "    </tr>\n",
       "    <tr>\n",
       "      <td>1</td>\n",
       "      <td>0.505701</td>\n",
       "      <td>174.044662</td>\n",
       "      <td>0.775568</td>\n",
       "      <td>01:37</td>\n",
       "    </tr>\n",
       "    <tr>\n",
       "      <td>2</td>\n",
       "      <td>0.581683</td>\n",
       "      <td>64.033859</td>\n",
       "      <td>0.224518</td>\n",
       "      <td>01:21</td>\n",
       "    </tr>\n",
       "    <tr>\n",
       "      <td>3</td>\n",
       "      <td>0.458158</td>\n",
       "      <td>2.369126</td>\n",
       "      <td>0.779580</td>\n",
       "      <td>01:16</td>\n",
       "    </tr>\n",
       "    <tr>\n",
       "      <td>4</td>\n",
       "      <td>0.487879</td>\n",
       "      <td>50.654438</td>\n",
       "      <td>0.225381</td>\n",
       "      <td>01:17</td>\n",
       "    </tr>\n",
       "  </tbody>\n",
       "</table>"
      ],
      "text/plain": [
       "<IPython.core.display.HTML object>"
      ]
     },
     "metadata": {},
     "output_type": "display_data"
    },
    {
     "data": {
      "text/html": [
       "\n",
       "<style>\n",
       "    /* Turns off some styling */\n",
       "    progress {\n",
       "        /* gets rid of default border in Firefox and Opera. */\n",
       "        border: none;\n",
       "        /* Needs to be in here for Safari polyfill so background images work as expected. */\n",
       "        background-size: auto;\n",
       "    }\n",
       "    progress:not([value]), progress:not([value])::-webkit-progress-bar {\n",
       "        background: repeating-linear-gradient(45deg, #7e7e7e, #7e7e7e 10px, #5c5c5c 10px, #5c5c5c 20px);\n",
       "    }\n",
       "    .progress-bar-interrupted, .progress-bar-interrupted::-webkit-progress-bar {\n",
       "        background: #F44336;\n",
       "    }\n",
       "</style>\n"
      ],
      "text/plain": [
       "<IPython.core.display.HTML object>"
      ]
     },
     "metadata": {},
     "output_type": "display_data"
    },
    {
     "data": {
      "text/html": [],
      "text/plain": [
       "<IPython.core.display.HTML object>"
      ]
     },
     "metadata": {},
     "output_type": "display_data"
    },
    {
     "data": {
      "text/html": [
       "\n",
       "<style>\n",
       "    /* Turns off some styling */\n",
       "    progress {\n",
       "        /* gets rid of default border in Firefox and Opera. */\n",
       "        border: none;\n",
       "        /* Needs to be in here for Safari polyfill so background images work as expected. */\n",
       "        background-size: auto;\n",
       "    }\n",
       "    progress:not([value]), progress:not([value])::-webkit-progress-bar {\n",
       "        background: repeating-linear-gradient(45deg, #7e7e7e, #7e7e7e 10px, #5c5c5c 10px, #5c5c5c 20px);\n",
       "    }\n",
       "    .progress-bar-interrupted, .progress-bar-interrupted::-webkit-progress-bar {\n",
       "        background: #F44336;\n",
       "    }\n",
       "</style>\n"
      ],
      "text/plain": [
       "<IPython.core.display.HTML object>"
      ]
     },
     "metadata": {},
     "output_type": "display_data"
    },
    {
     "data": {
      "text/html": [
       "<table border=\"1\" class=\"dataframe\">\n",
       "  <thead>\n",
       "    <tr style=\"text-align: left;\">\n",
       "      <th>epoch</th>\n",
       "      <th>train_loss</th>\n",
       "      <th>valid_loss</th>\n",
       "      <th>accuracy</th>\n",
       "      <th>time</th>\n",
       "    </tr>\n",
       "  </thead>\n",
       "  <tbody>\n",
       "    <tr>\n",
       "      <td>0</td>\n",
       "      <td>0.527216</td>\n",
       "      <td>1.463130</td>\n",
       "      <td>0.775741</td>\n",
       "      <td>01:27</td>\n",
       "    </tr>\n",
       "    <tr>\n",
       "      <td>1</td>\n",
       "      <td>0.534002</td>\n",
       "      <td>0.458801</td>\n",
       "      <td>0.781952</td>\n",
       "      <td>01:36</td>\n",
       "    </tr>\n",
       "    <tr>\n",
       "      <td>2</td>\n",
       "      <td>0.504164</td>\n",
       "      <td>111.722855</td>\n",
       "      <td>0.230039</td>\n",
       "      <td>01:35</td>\n",
       "    </tr>\n",
       "    <tr>\n",
       "      <td>3</td>\n",
       "      <td>0.489250</td>\n",
       "      <td>0.528555</td>\n",
       "      <td>0.788681</td>\n",
       "      <td>01:33</td>\n",
       "    </tr>\n",
       "    <tr>\n",
       "      <td>4</td>\n",
       "      <td>0.525092</td>\n",
       "      <td>0.490130</td>\n",
       "      <td>0.791528</td>\n",
       "      <td>01:35</td>\n",
       "    </tr>\n",
       "  </tbody>\n",
       "</table>"
      ],
      "text/plain": [
       "<IPython.core.display.HTML object>"
      ]
     },
     "metadata": {},
     "output_type": "display_data"
    },
    {
     "data": {
      "text/html": [
       "\n",
       "<style>\n",
       "    /* Turns off some styling */\n",
       "    progress {\n",
       "        /* gets rid of default border in Firefox and Opera. */\n",
       "        border: none;\n",
       "        /* Needs to be in here for Safari polyfill so background images work as expected. */\n",
       "        background-size: auto;\n",
       "    }\n",
       "    progress:not([value]), progress:not([value])::-webkit-progress-bar {\n",
       "        background: repeating-linear-gradient(45deg, #7e7e7e, #7e7e7e 10px, #5c5c5c 10px, #5c5c5c 20px);\n",
       "    }\n",
       "    .progress-bar-interrupted, .progress-bar-interrupted::-webkit-progress-bar {\n",
       "        background: #F44336;\n",
       "    }\n",
       "</style>\n"
      ],
      "text/plain": [
       "<IPython.core.display.HTML object>"
      ]
     },
     "metadata": {},
     "output_type": "display_data"
    },
    {
     "data": {
      "text/html": [],
      "text/plain": [
       "<IPython.core.display.HTML object>"
      ]
     },
     "metadata": {},
     "output_type": "display_data"
    },
    {
     "data": {
      "text/html": [
       "\n",
       "<style>\n",
       "    /* Turns off some styling */\n",
       "    progress {\n",
       "        /* gets rid of default border in Firefox and Opera. */\n",
       "        border: none;\n",
       "        /* Needs to be in here for Safari polyfill so background images work as expected. */\n",
       "        background-size: auto;\n",
       "    }\n",
       "    progress:not([value]), progress:not([value])::-webkit-progress-bar {\n",
       "        background: repeating-linear-gradient(45deg, #7e7e7e, #7e7e7e 10px, #5c5c5c 10px, #5c5c5c 20px);\n",
       "    }\n",
       "    .progress-bar-interrupted, .progress-bar-interrupted::-webkit-progress-bar {\n",
       "        background: #F44336;\n",
       "    }\n",
       "</style>\n"
      ],
      "text/plain": [
       "<IPython.core.display.HTML object>"
      ]
     },
     "metadata": {},
     "output_type": "display_data"
    },
    {
     "data": {
      "text/html": [
       "<table border=\"1\" class=\"dataframe\">\n",
       "  <thead>\n",
       "    <tr style=\"text-align: left;\">\n",
       "      <th>epoch</th>\n",
       "      <th>train_loss</th>\n",
       "      <th>valid_loss</th>\n",
       "      <th>accuracy</th>\n",
       "      <th>time</th>\n",
       "    </tr>\n",
       "  </thead>\n",
       "  <tbody>\n",
       "    <tr>\n",
       "      <td>0</td>\n",
       "      <td>0.489898</td>\n",
       "      <td>96.859077</td>\n",
       "      <td>0.217875</td>\n",
       "      <td>01:35</td>\n",
       "    </tr>\n",
       "    <tr>\n",
       "      <td>1</td>\n",
       "      <td>0.497036</td>\n",
       "      <td>1.392856</td>\n",
       "      <td>0.788897</td>\n",
       "      <td>01:34</td>\n",
       "    </tr>\n",
       "    <tr>\n",
       "      <td>2</td>\n",
       "      <td>0.485719</td>\n",
       "      <td>0.535873</td>\n",
       "      <td>0.823448</td>\n",
       "      <td>01:34</td>\n",
       "    </tr>\n",
       "    <tr>\n",
       "      <td>3</td>\n",
       "      <td>0.497368</td>\n",
       "      <td>0.491150</td>\n",
       "      <td>0.781995</td>\n",
       "      <td>01:35</td>\n",
       "    </tr>\n",
       "    <tr>\n",
       "      <td>4</td>\n",
       "      <td>0.512410</td>\n",
       "      <td>30.659157</td>\n",
       "      <td>0.526852</td>\n",
       "      <td>01:35</td>\n",
       "    </tr>\n",
       "  </tbody>\n",
       "</table>"
      ],
      "text/plain": [
       "<IPython.core.display.HTML object>"
      ]
     },
     "metadata": {},
     "output_type": "display_data"
    },
    {
     "data": {
      "text/html": [
       "\n",
       "<style>\n",
       "    /* Turns off some styling */\n",
       "    progress {\n",
       "        /* gets rid of default border in Firefox and Opera. */\n",
       "        border: none;\n",
       "        /* Needs to be in here for Safari polyfill so background images work as expected. */\n",
       "        background-size: auto;\n",
       "    }\n",
       "    progress:not([value]), progress:not([value])::-webkit-progress-bar {\n",
       "        background: repeating-linear-gradient(45deg, #7e7e7e, #7e7e7e 10px, #5c5c5c 10px, #5c5c5c 20px);\n",
       "    }\n",
       "    .progress-bar-interrupted, .progress-bar-interrupted::-webkit-progress-bar {\n",
       "        background: #F44336;\n",
       "    }\n",
       "</style>\n"
      ],
      "text/plain": [
       "<IPython.core.display.HTML object>"
      ]
     },
     "metadata": {},
     "output_type": "display_data"
    },
    {
     "data": {
      "text/html": [],
      "text/plain": [
       "<IPython.core.display.HTML object>"
      ]
     },
     "metadata": {},
     "output_type": "display_data"
    },
    {
     "data": {
      "text/html": [
       "\n",
       "<style>\n",
       "    /* Turns off some styling */\n",
       "    progress {\n",
       "        /* gets rid of default border in Firefox and Opera. */\n",
       "        border: none;\n",
       "        /* Needs to be in here for Safari polyfill so background images work as expected. */\n",
       "        background-size: auto;\n",
       "    }\n",
       "    progress:not([value]), progress:not([value])::-webkit-progress-bar {\n",
       "        background: repeating-linear-gradient(45deg, #7e7e7e, #7e7e7e 10px, #5c5c5c 10px, #5c5c5c 20px);\n",
       "    }\n",
       "    .progress-bar-interrupted, .progress-bar-interrupted::-webkit-progress-bar {\n",
       "        background: #F44336;\n",
       "    }\n",
       "</style>\n"
      ],
      "text/plain": [
       "<IPython.core.display.HTML object>"
      ]
     },
     "metadata": {},
     "output_type": "display_data"
    },
    {
     "data": {
      "text/html": [
       "<table border=\"1\" class=\"dataframe\">\n",
       "  <thead>\n",
       "    <tr style=\"text-align: left;\">\n",
       "      <th>epoch</th>\n",
       "      <th>train_loss</th>\n",
       "      <th>valid_loss</th>\n",
       "      <th>accuracy</th>\n",
       "      <th>time</th>\n",
       "    </tr>\n",
       "  </thead>\n",
       "  <tbody>\n",
       "    <tr>\n",
       "      <td>0</td>\n",
       "      <td>0.493029</td>\n",
       "      <td>0.418199</td>\n",
       "      <td>0.802485</td>\n",
       "      <td>01:42</td>\n",
       "    </tr>\n",
       "    <tr>\n",
       "      <td>1</td>\n",
       "      <td>0.472690</td>\n",
       "      <td>0.408159</td>\n",
       "      <td>0.805935</td>\n",
       "      <td>01:42</td>\n",
       "    </tr>\n",
       "    <tr>\n",
       "      <td>2</td>\n",
       "      <td>0.489897</td>\n",
       "      <td>0.466715</td>\n",
       "      <td>0.800975</td>\n",
       "      <td>01:42</td>\n",
       "    </tr>\n",
       "    <tr>\n",
       "      <td>3</td>\n",
       "      <td>0.510336</td>\n",
       "      <td>0.385971</td>\n",
       "      <td>0.842212</td>\n",
       "      <td>01:44</td>\n",
       "    </tr>\n",
       "    <tr>\n",
       "      <td>4</td>\n",
       "      <td>0.485804</td>\n",
       "      <td>0.461196</td>\n",
       "      <td>0.805935</td>\n",
       "      <td>01:44</td>\n",
       "    </tr>\n",
       "  </tbody>\n",
       "</table>"
      ],
      "text/plain": [
       "<IPython.core.display.HTML object>"
      ]
     },
     "metadata": {},
     "output_type": "display_data"
    },
    {
     "data": {
      "image/png": "[encoded data removed]",
      "text/plain": [
       "<Figure size 432x288 with 1 Axes>"
      ]
     },
     "metadata": {
      "needs_background": "light"
     },
     "output_type": "display_data"
    },
    {
     "data": {
      "image/png": "[encoded data removed]",
      "text/plain": [
       "<Figure size 432x288 with 1 Axes>"
      ]
     },
     "metadata": {
      "needs_background": "light"
     },
     "output_type": "display_data"
    },
    {
     "data": {
      "image/png": "[encoded data removed]",
      "text/plain": [
       "<Figure size 432x288 with 1 Axes>"
      ]
     },
     "metadata": {
      "needs_background": "light"
     },
     "output_type": "display_data"
    }
   ],
   "source": [
    "learner_model.freeze_to(-4) \n",
    "learner_model.fit_one_cycle(5, lr)\n",
    "lr = learner_model.lr_find()[0]\n",
    "learner_model.fit_one_cycle(5, lr)\n",
    "lr = learner_model.lr_find()[0]\n",
    "learner_model.fit_one_cycle(5, lr)\n",
    "learner_model.unfreeze()\n",
    "lr = learner_model.lr_find()[0]\n",
    "learner_model.fit_one_cycle(5, lr)"
   ]
  },
  {
   "cell_type": "markdown",
   "id": "5916d895-4551-47b3-b58d-9ff507608285",
   "metadata": {},
   "source": [
    "Сохраняем полученную модель"
   ]
  },
  {
   "cell_type": "code",
   "execution_count": 19,
   "id": "7f6069a8-c0b0-4d70-9ccc-3e3659b1480b",
   "metadata": {},
   "outputs": [
    {
     "data": {
      "text/plain": [
       "Path('models/trained_model1.pth')"
      ]
     },
     "execution_count": 19,
     "metadata": {},
     "output_type": "execute_result"
    }
   ],
   "source": [
    "learner_model.save(\"trained_model1\")"
   ]
  },
  {
   "cell_type": "code",
   "execution_count": 23,
   "id": "720b7f1f-d72a-4699-9f1c-2224d453de4b",
   "metadata": {},
   "outputs": [],
   "source": [
    "learner_model = learner_model.load(file = 'trained_model') # Загружаем другую, более удачную модель"
   ]
  },
  {
   "cell_type": "markdown",
   "id": "81931ca5-f015-4346-847d-d972dd5f1707",
   "metadata": {},
   "source": [
    "Посмотрим результат на валидационной выборке"
   ]
  },
  {
   "cell_type": "code",
   "execution_count": 25,
   "id": "9361176c-3ce5-45e9-a2e1-8b4fde571fa8",
   "metadata": {},
   "outputs": [
    {
     "data": {
      "text/html": [
       "\n",
       "<style>\n",
       "    /* Turns off some styling */\n",
       "    progress {\n",
       "        /* gets rid of default border in Firefox and Opera. */\n",
       "        border: none;\n",
       "        /* Needs to be in here for Safari polyfill so background images work as expected. */\n",
       "        background-size: auto;\n",
       "    }\n",
       "    progress:not([value]), progress:not([value])::-webkit-progress-bar {\n",
       "        background: repeating-linear-gradient(45deg, #7e7e7e, #7e7e7e 10px, #5c5c5c 10px, #5c5c5c 20px);\n",
       "    }\n",
       "    .progress-bar-interrupted, .progress-bar-interrupted::-webkit-progress-bar {\n",
       "        background: #F44336;\n",
       "    }\n",
       "</style>\n"
      ],
      "text/plain": [
       "<IPython.core.display.HTML object>"
      ]
     },
     "metadata": {},
     "output_type": "display_data"
    },
    {
     "data": {
      "text/html": [],
      "text/plain": [
       "<IPython.core.display.HTML object>"
      ]
     },
     "metadata": {},
     "output_type": "display_data"
    },
    {
     "name": "stdout",
     "output_type": "stream",
     "text": [
      "Validation loss is: 0.2416529655456543\n",
      "Validation accuracy is: 0.9587197303771973\n"
     ]
    }
   ],
   "source": [
    "val_loss, val_accuracy = learner_model.validate()\n",
    "print(f\"\"\"Validation loss is: {val_loss}\n",
    "Validation accuracy is: {val_accuracy}\"\"\")"
   ]
  },
  {
   "cell_type": "markdown",
   "id": "312844bf-e404-48e6-a75c-3b4887bbc743",
   "metadata": {},
   "source": [
    "# __Отчёт по проведённому исследованию__\n",
    "### 1. В ходе данного исследования были выявлены топ 15 банков по количеству отзывов (рис. 1). "
   ]
  },
  {
   "cell_type": "code",
   "execution_count": 26,
   "id": "d66de976-1876-44bc-995d-4b198492eae1",
   "metadata": {},
   "outputs": [
    {
     "data": {
      "image/png": "[encoded data removed]",
      "text/plain": [
       "<Figure size 1080x720 with 1 Axes>"
      ]
     },
     "metadata": {
      "needs_background": "light"
     },
     "output_type": "display_data"
    }
   ],
   "source": [
    "df_top15_review_count = pd.DataFrame(top15_review_count)\n",
    "df_top15_review_count.rename(columns={\"bank_name\": \"Was rated how many times\"},inplace=True)\n",
    "\n",
    "plt.figure(figsize=(15, 10))\n",
    "plt.barh(df_top15_review_count.index, df_top15_review_count[\"Was rated how many times\"], color='skyblue')\n",
    "plt.xlabel('Количество оценок')\n",
    "plt.ylabel('Название банка')\n",
    "plt.title('(Рисунок 1). График количества оценок за всё время по самым оцениваемым банкам ', y=-0.12)\n",
    "plt.show()"
   ]
  },
  {
   "cell_type": "markdown",
   "id": "830081b8-5632-426b-8ade-b4475808abe1",
   "metadata": {},
   "source": [
    "#### Как можно заметить, Тинькофф Банк обладает столь большим количеством отзывов, что даже если сложить отзывы всех остальных банков из топа, то это будет меньше чем у Тинькоффа. Причины этого феномена мне выяснить не удалось, могу сделать предположение, что на сайт banki.ru прибыли не только те, кто пользуется исключительно услугами банка, но и те, кто пользуются вторичными или другими продуктами компании Тинькофф, такими как Тинькофф Инвестиции."
   ]
  },
  {
   "cell_type": "markdown",
   "id": "98cfa6a4-dd03-4fa5-bbd9-498c541c73bf",
   "metadata": {},
   "source": [
    "### 2. Был составлен топ банков с самым высоким рейтингом и с наибольшим количеством отзывов (рис.2)."
   ]
  },
  {
   "cell_type": "code",
   "execution_count": 27,
   "id": "2e44496d-a1d9-42fd-aa5d-711162988963",
   "metadata": {},
   "outputs": [
    {
     "data": {
      "image/png": "[encoded data removed]",
      "text/plain": [
       "<Figure size 1080x720 with 1 Axes>"
      ]
     },
     "metadata": {
      "needs_background": "light"
     },
     "output_type": "display_data"
    }
   ],
   "source": [
    "mask = df['bank_name'].isin(top15_review_count.index.to_numpy())\n",
    "top_rated_banks = df[mask].groupby([\"bank_name\"])[\"rating\"].mean().sort_values(ascending=False)[0:15]\n",
    "df_top15_rating_mean = pd.DataFrame(top_rated_banks)\n",
    "\n",
    "plt.figure(figsize=(15, 10))\n",
    "plt.barh(df_top15_rating_mean.index, df_top15_rating_mean[\"rating\"], color='skyblue')\n",
    "plt.xlabel('Cредняя оценка банка')\n",
    "plt.ylabel('Название банка')\n",
    "plt.title('(Рисунок 2). График средней оценки за всё время по самым оцениваемым банкам ', y=-0.12)\n",
    "plt.show()"
   ]
  },
  {
   "cell_type": "markdown",
   "id": "4d128efd-6c85-46ca-8d19-2be61e29d81b",
   "metadata": {},
   "source": [
    "#### Cамым высокооцениваемыми банками оказались Тинькофф Банк, Модульбанк и Азиатско-Тихоокеанский Банк. Если учитывать предыдущий график, то можно сделать вывод, что Тинькофф Банк обладает лучшим соотношением \"Количество отзывов/Средняя оценка\"."
   ]
  },
  {
   "cell_type": "markdown",
   "id": "e56cffc8-7ea6-4f0a-8e7b-0f7d48ab5e2f",
   "metadata": {},
   "source": [
    "### 3. Был составлен график, отражающиий изменение средней оценки для топ-5 банков за каждый месяц (рис.3)."
   ]
  },
  {
   "cell_type": "code",
   "execution_count": 28,
   "id": "3634c708-f8f4-40f2-8d39-6bb4f26c76d3",
   "metadata": {},
   "outputs": [
    {
     "data": {
      "image/png": "[encoded data removed]",
      "text/plain": [
       "<Figure size 1080x720 with 1 Axes>"
      ]
     },
     "metadata": {
      "needs_background": "light"
     },
     "output_type": "display_data"
    }
   ],
   "source": [
    "df_top5_mean_rate = pd.DataFrame(top5_mean_rate)\n",
    "\n",
    "plt.figure(figsize=(15, 10))\n",
    "x_axis = [\"2022-09\",\"2022-10\",\"2022-11\",\"2022-12\",\"2023-01\"]\n",
    "plt.plot(x_axis, df_top5_mean_rate.loc[\"ВТБ\"].to_numpy(), label='ВТБ')\n",
    "plt.plot(x_axis, df_top5_mean_rate.loc[\"СберБанк\"].to_numpy(), label='СберБанк')\n",
    "plt.plot(x_axis, df_top5_mean_rate.loc[\"Совкомбанк\"].to_numpy(), label='Совкомбанк')\n",
    "plt.plot(x_axis, df_top5_mean_rate.loc[\"Тинькофф Банк\"].to_numpy(), label='Тинькофф Банк')\n",
    "plt.plot(x_axis, df_top5_mean_rate.loc[\"Хоум Кредит Банк\"].to_numpy(), label='Хоум Кредит Банк')\n",
    "plt.xlabel('Дата в формате месяц-год')\n",
    "plt.ylabel('Средняя оценка')\n",
    "plt.title('(Рисунок 3). График средней оценки за каждый месяц', y=-0.12)\n",
    "\n",
    "plt.legend() \n",
    "plt.show()"
   ]
  },
  {
   "cell_type": "markdown",
   "id": "f08bf222-0f2b-4d33-a1cb-0dd18f3584bc",
   "metadata": {},
   "source": [
    "#### Благодаря графику можно увидеть тендецию средней оценки каждого из пяти банков. Несмотря на уникальность кривой оценки каждого банка, можно заметить, что у Совкомбанка и Хоум Кредит Банка графики очень похожи. Так же нельзя не заметить, что у всех пяти банков к первому месяцу 2023 года просели графики среднего рейтинга, что может быть связано с особенностями системы рейтинга самого сайта banki.ru (см. ссылку https://www.banki.ru/services/responses/methodology/), которая снижает вклад отзывов, полученных давно."
   ]
  },
  {
   "cell_type": "markdown",
   "id": "56d9c4e6-05b8-481e-815e-b9706f69336d",
   "metadata": {},
   "source": [
    "### 4. Была построена модель машинного обучения, способная классифицировать отзывы на положительные и негативные"
   ]
  },
  {
   "cell_type": "markdown",
   "id": "7b9d9a44-dc9d-4de3-bb52-d80f1fb31e50",
   "metadata": {},
   "source": [
    "#### В качестве модели использовалась одна из тектовых моделей Fast AI, которая была дообучена на данных с сайта banki.ru. В процессе дообучения удалось достигнуть хорошего результата на валидационных данных (см. ниже)."
   ]
  },
  {
   "cell_type": "code",
   "execution_count": 30,
   "id": "4917fb55-9746-42e1-a246-ecefc0460502",
   "metadata": {},
   "outputs": [
    {
     "data": {
      "text/html": [
       "\n",
       "<style>\n",
       "    /* Turns off some styling */\n",
       "    progress {\n",
       "        /* gets rid of default border in Firefox and Opera. */\n",
       "        border: none;\n",
       "        /* Needs to be in here for Safari polyfill so background images work as expected. */\n",
       "        background-size: auto;\n",
       "    }\n",
       "    progress:not([value]), progress:not([value])::-webkit-progress-bar {\n",
       "        background: repeating-linear-gradient(45deg, #7e7e7e, #7e7e7e 10px, #5c5c5c 10px, #5c5c5c 20px);\n",
       "    }\n",
       "    .progress-bar-interrupted, .progress-bar-interrupted::-webkit-progress-bar {\n",
       "        background: #F44336;\n",
       "    }\n",
       "</style>\n"
      ],
      "text/plain": [
       "<IPython.core.display.HTML object>"
      ]
     },
     "metadata": {},
     "output_type": "display_data"
    },
    {
     "data": {
      "text/html": [],
      "text/plain": [
       "<IPython.core.display.HTML object>"
      ]
     },
     "metadata": {},
     "output_type": "display_data"
    },
    {
     "name": "stdout",
     "output_type": "stream",
     "text": [
      "Потеря на валидационной выборке: 0.2416529655456543\n",
      "Точность модели на валидационной выборке: 0.9587197303771973\n"
     ]
    }
   ],
   "source": [
    "val_loss, val_accuracy = learner_model.validate()\n",
    "print(f\"\"\"Потеря на валидационной выборке: {val_loss}\n",
    "Точность модели на валидационной выборке: {val_accuracy}\"\"\")"
   ]
  }
 ],
 "metadata": {
  "kernelspec": {
   "display_name": "Python 3 (ipykernel)",
   "language": "python",
   "name": "python3"
  },
  "language_info": {
   "codemirror_mode": {
    "name": "ipython",
    "version": 3
   },
   "file_extension": ".py",
   "mimetype": "text/x-python",
   "name": "python",
   "nbconvert_exporter": "python",
   "pygments_lexer": "ipython3",
   "version": "3.10.12"
  }
 },
 "nbformat": 4,
 "nbformat_minor": 5
}
